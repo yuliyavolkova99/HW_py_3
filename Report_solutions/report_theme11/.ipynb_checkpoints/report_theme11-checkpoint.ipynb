{
 "cells": [
  {
   "cell_type": "markdown",
   "metadata": {},
   "source": [
    "**Доклад тема 11**"
   ]
  },
  {
   "cell_type": "markdown",
   "metadata": {},
   "source": [
    "С помощью представленных модулей выполнить следующие задания:   \n",
    "       1) предварительно создать в текущей директории произвольный текстовый файл, с которым будем работать  \n",
    "       2) скопировать файл в другой файл и проверить, что они совпадают  \n",
    "       3) создать архив из скопированного файла  \n",
    "       4) с помощью mmap прочитать изначальный файл (получится байт строка) и декодировать её (дабы избежать ошибок, рекомендую использовать errors = \"ignore\")  "
   ]
  },
  {
   "cell_type": "code",
   "execution_count": 1,
   "metadata": {},
   "outputs": [
    {
     "name": "stdout",
     "output_type": "stream",
     "text": [
      "True\n",
      "b'something \\xd0\\xbd\\xd0\\xb0 \\xd1\\x80\\xd1\\x83\\xd1\\x81\\xd1\\x81\\xd0\\xba\\xd0\\xbe\\xd0\\xbc'\n",
      "something на русском\n"
     ]
    }
   ],
   "source": [
    "import os\n",
    "import mmap\n",
    "import shutil as sh\n",
    "import codecs as cd\n",
    "import filecmp as fl\n",
    "def work_with_txt():\n",
    "    with open('text.txt', 'w', encoding='utf-8') as file:\n",
    "        file.write('something на русском')\n",
    "    sh.copyfile('text.txt', 'textcopy.txt') \n",
    "    print(fl.cmp('text.txt', 'textcopy.txt')) #совпадение файлов   \n",
    "    sh.make_archive('arch', 'zip', os.getcwd())                             \n",
    "    with open('text.txt', 'r', encoding='utf-8') as file:                        \n",
    "        with mmap.mmap(file.fileno(), length =0, access = mmap.ACCESS_READ) as mmapp:\n",
    "            text_r = mmapp.read()\n",
    "    print(text_r)\n",
    "    print(cd.decode(text_r, encoding='utf-8', errors='ignore'))                     \n",
    "\n",
    "work_with_txt()"
   ]
  }
 ],
 "metadata": {
  "kernelspec": {
   "display_name": "Python 3",
   "language": "python",
   "name": "python3"
  },
  "language_info": {
   "codemirror_mode": {
    "name": "ipython",
    "version": 3
   },
   "file_extension": ".py",
   "mimetype": "text/x-python",
   "name": "python",
   "nbconvert_exporter": "python",
   "pygments_lexer": "ipython3",
   "version": "3.7.4"
  }
 },
 "nbformat": 4,
 "nbformat_minor": 4
}
