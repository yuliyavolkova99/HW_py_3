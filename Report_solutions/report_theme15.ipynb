{
 "cells": [
  {
   "cell_type": "markdown",
   "metadata": {},
   "source": [
    "**Доклад тема 15**"
   ]
  },
  {
   "cell_type": "markdown",
   "metadata": {},
   "source": [
    "При помощимодуля threading создайте два потока, один поток пусть выполняет функцию сложения двух чисел, второй пусть умножает два числа."
   ]
  },
  {
   "cell_type": "code",
   "execution_count": 2,
   "metadata": {},
   "outputs": [
    {
     "name": "stdout",
     "output_type": "stream",
     "text": [
      "5\n",
      "24\n"
     ]
    }
   ],
   "source": [
    "import threading\n",
    "def plus(r, t):\n",
    "    print(r + t)\n",
    "\n",
    "def times(r, t):\n",
    "    print(r * t)\n",
    "\n",
    "t = threading.Thread(target=plus, args=(2, 3,))\n",
    "a = threading.Thread(target=times, args=(4, 6,))\n",
    "t.start()\n",
    "a.start()"
   ]
  }
 ],
 "metadata": {
  "kernelspec": {
   "display_name": "Python 3",
   "language": "python",
   "name": "python3"
  },
  "language_info": {
   "codemirror_mode": {
    "name": "ipython",
    "version": 3
   },
   "file_extension": ".py",
   "mimetype": "text/x-python",
   "name": "python",
   "nbconvert_exporter": "python",
   "pygments_lexer": "ipython3",
   "version": "3.7.4"
  }
 },
 "nbformat": 4,
 "nbformat_minor": 4
}
