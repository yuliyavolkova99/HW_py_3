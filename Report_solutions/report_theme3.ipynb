{
 "cells": [
  {
   "cell_type": "markdown",
   "metadata": {},
   "source": [
    "**Heapq, bisect, queue**"
   ]
  },
  {
   "cell_type": "markdown",
   "metadata": {},
   "source": [
    "Создать кучу из 10 случайных чисел и вывести наименьшие числа с 4 по 6 (порядковые номера изначальной кучи)."
   ]
  },
  {
   "cell_type": "code",
   "execution_count": 1,
   "metadata": {},
   "outputs": [
    {
     "name": "stdout",
     "output_type": "stream",
     "text": [
      "[26  9 87 76 48 99 45 72 15 19]\n",
      "[48, 76, 99]\n"
     ]
    }
   ],
   "source": [
    "import heapq\n",
    "import numpy as np\n",
    "lst = np.random.randint(1,100,10)\n",
    "print(lst)\n",
    "print(heapq.nsmallest(3, lst[3:6]))"
   ]
  },
  {
   "cell_type": "markdown",
   "metadata": {},
   "source": [
    "Создать отсортированный список из 10 элементов, ввести некоторое чисто а. Найти позицию а, если вставлять его в список как можно правее, а затем добавить его в список как можно левее."
   ]
  },
  {
   "cell_type": "code",
   "execution_count": 2,
   "metadata": {},
   "outputs": [
    {
     "name": "stdout",
     "output_type": "stream",
     "text": [
      "[9, 15, 19, 26, 45, 48, 72, 76, 87, 99]  - исходный список\n"
     ]
    },
    {
     "name": "stdin",
     "output_type": "stream",
     "text": [
      " 23\n"
     ]
    },
    {
     "name": "stdout",
     "output_type": "stream",
     "text": [
      "[9, 15, 19, 23, 26, 45, 48, 72, 76, 87, 99]\n",
      "[9, 15, 19, 23, 23, 26, 45, 48, 72, 76, 87, 99]\n",
      "5\n"
     ]
    }
   ],
   "source": [
    "import bisect\n",
    "lstt = sorted(lst)\n",
    "print(lstt, \" - исходный список\")\n",
    "inp = int(input())\n",
    "\n",
    "bisect.insort(lstt, inp)\n",
    "print(lstt)\n",
    "bisect.insort_left(lstt, inp)\n",
    "print(lstt)\n",
    "pos = bisect.bisect(lstt, inp)\n",
    "print(pos)"
   ]
  },
  {
   "cell_type": "markdown",
   "metadata": {},
   "source": [
    " Создать очередь с приоритетом из 3 элементов, вывести ее. Затем добавить еще один элемент и вывести конечный вариант очереди."
   ]
  },
  {
   "cell_type": "code",
   "execution_count": 3,
   "metadata": {},
   "outputs": [
    {
     "name": "stdout",
     "output_type": "stream",
     "text": [
      "0\n",
      "1\n",
      "2\n",
      "5\n"
     ]
    }
   ],
   "source": [
    "import queue\n",
    "\n",
    "q = queue.Queue()\n",
    "\n",
    "for i in range(3):\n",
    "    q.put(i)\n",
    "while not q.empty():\n",
    "    print(q.get())\n",
    "\n",
    "q.put(5)\n",
    "while not q.empty():\n",
    "    print(q.get())"
   ]
  }
 ],
 "metadata": {
  "kernelspec": {
   "display_name": "Python 3",
   "language": "python",
   "name": "python3"
  },
  "language_info": {
   "codemirror_mode": {
    "name": "ipython",
    "version": 3
   },
   "file_extension": ".py",
   "mimetype": "text/x-python",
   "name": "python",
   "nbconvert_exporter": "python",
   "pygments_lexer": "ipython3",
   "version": "3.7.4"
  }
 },
 "nbformat": 4,
 "nbformat_minor": 4
}
