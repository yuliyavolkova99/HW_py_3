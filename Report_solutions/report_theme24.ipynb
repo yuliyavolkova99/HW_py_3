{
 "cells": [
  {
   "cell_type": "markdown",
   "metadata": {},
   "source": [
    "**Доклад тема 24**"
   ]
  },
  {
   "cell_type": "markdown",
   "metadata": {},
   "source": [
    "**Задание 1**"
   ]
  },
  {
   "cell_type": "markdown",
   "metadata": {},
   "source": [
    "Подключить автоматический сборщик мусора с пороговым значением, равным 6 для первого поколения (для второго и третьего оставить по умолчанию)"
   ]
  },
  {
   "cell_type": "code",
   "execution_count": 1,
   "metadata": {},
   "outputs": [
    {
     "data": {
      "text/plain": [
       "(6, 10, 10)"
      ]
     },
     "execution_count": 1,
     "metadata": {},
     "output_type": "execute_result"
    }
   ],
   "source": [
    "import gc\n",
    "gc.enable()\n",
    "gc.set_threshold(6)\n",
    "gc.get_threshold()"
   ]
  },
  {
   "cell_type": "markdown",
   "metadata": {},
   "source": [
    "**Задание 2**"
   ]
  },
  {
   "cell_type": "markdown",
   "metadata": {},
   "source": [
    "Напишите рекурсивную функцию fib, вычисляющую n-ое число Фибоначчи (так, чтобы внутри был всего один рекурсивный вызов fib). fib внутри себя устанавливает случайный предел рекурсии (от 64 до 1000). Если вычисления не происходят из-за нарушения предела рекурсии, fib возвращает \"не повезло\"."
   ]
  },
  {
   "cell_type": "code",
   "execution_count": 2,
   "metadata": {},
   "outputs": [
    {
     "name": "stdout",
     "output_type": "stream",
     "text": [
      "(6765, 4181)\n",
      "не повезло\n"
     ]
    }
   ],
   "source": [
    "import sys\n",
    "import random\n",
    "def fib(n):\n",
    "    sys.setrecursionlimit(random.randint(64,1000))\n",
    "    try:\n",
    "        if n > 1:\n",
    "            (a, b) = fib(n - 1)\n",
    "            return (a + b, a)\n",
    "        else:\n",
    "            return (n,0)\n",
    "    except:\n",
    "        return \"не повезло\"\n",
    "print(fib(20))\n",
    "print(fib(10056))"
   ]
  },
  {
   "cell_type": "markdown",
   "metadata": {},
   "source": [
    "**Задание 3**"
   ]
  },
  {
   "cell_type": "markdown",
   "metadata": {},
   "source": [
    "Получите имя папки в текущей директории, в которой меньше всего файлов (не вложенных папок!)"
   ]
  },
  {
   "cell_type": "code",
   "execution_count": 3,
   "metadata": {},
   "outputs": [
    {
     "data": {
      "text/plain": [
       "'C:\\\\Users\\\\Y.S.D.V\\\\Desktop\\\\Materials\\\\Финэк\\\\WPy64-3741\\\\notebooks'"
      ]
     },
     "execution_count": 3,
     "metadata": {},
     "output_type": "execute_result"
    }
   ],
   "source": [
    "import os\n",
    "ans = list(os.walk(os.getcwd()))\n",
    "min(ans, key = lambda x: len(x[2]))[0]"
   ]
  },
  {
   "cell_type": "markdown",
   "metadata": {},
   "source": [
    "**Задание 4**"
   ]
  },
  {
   "cell_type": "markdown",
   "metadata": {},
   "source": [
    "Определите, сколько лет назад был собран Ваш интерпретатор. Выведите \"пора обновиться\", если интерпретатору не 0 лет."
   ]
  },
  {
   "cell_type": "code",
   "execution_count": 4,
   "metadata": {},
   "outputs": [
    {
     "name": "stdout",
     "output_type": "stream",
     "text": [
      "Вашему интерпретатору 1 лет\n",
      "Согласно условию задачи: пора обновиться\n"
     ]
    }
   ],
   "source": [
    "import platform\n",
    "def year():\n",
    "    wher = int(platform.python_build()[1][7:11])\n",
    "    age=2020 - wher\n",
    "    print(f'Вашему интерпретатору {age} лет')\n",
    "    if age > 0:\n",
    "        print(\"Согласно условию задачи: пора обновиться\")\n",
    "year()"
   ]
  }
 ],
 "metadata": {
  "kernelspec": {
   "display_name": "Python 3",
   "language": "python",
   "name": "python3"
  },
  "language_info": {
   "codemirror_mode": {
    "name": "ipython",
    "version": 3
   },
   "file_extension": ".py",
   "mimetype": "text/x-python",
   "name": "python",
   "nbconvert_exporter": "python",
   "pygments_lexer": "ipython3",
   "version": "3.7.4"
  }
 },
 "nbformat": 4,
 "nbformat_minor": 4
}
