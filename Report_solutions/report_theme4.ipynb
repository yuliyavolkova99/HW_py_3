{
 "cells": [
  {
   "cell_type": "markdown",
   "metadata": {},
   "source": [
    "**Доклад тема 4**"
   ]
  },
  {
   "cell_type": "markdown",
   "metadata": {},
   "source": [
    "Используя глубокое копирование, напишите функцию CountTill(), которая получает на вход число от 1 до 50, затем умножает его на два до тех пор, пока оно не превысит число 228, и на выход выдает два числа: исходное и полученное"
   ]
  },
  {
   "cell_type": "code",
   "execution_count": 1,
   "metadata": {},
   "outputs": [
    {
     "name": "stdout",
     "output_type": "stream",
     "text": [
      "(35, 280)\n"
     ]
    }
   ],
   "source": [
    "import random\n",
    "import copy\n",
    "arg = random.randint(1,50)\n",
    "def CountTill(arg):\n",
    "    arg_copy = copy.deepcopy(arg)\n",
    "    while arg_copy <= 228:\n",
    "        arg_copy *= 2\n",
    "    return arg, arg_copy\n",
    "print(CountTill(arg))"
   ]
  },
  {
   "cell_type": "markdown",
   "metadata": {},
   "source": [
    "Создайте расписание на Пятницу с помощью словаря и сделайте красивый вывод на экран."
   ]
  },
  {
   "cell_type": "code",
   "execution_count": 2,
   "metadata": {},
   "outputs": [
    {
     "name": "stdout",
     "output_type": "stream",
     "text": [
      "{'1 пара': {'Время': '9:00',\n",
      "            'Предмет': 'Математический анализ',\n",
      "            'Тип занятия': 'семинар'},\n",
      " '2 пара': {'Время': '10:50',\n",
      "            'Предмет': 'Математичеcкий анализ',\n",
      "            'Тип занятия': 'лекция'},\n",
      " '3 пара': {'Время': '12:40',\n",
      "            'Предмет': 'Языки и методы программирования',\n",
      "            'Тип занятия': 'семинар'},\n",
      " '4 пара': {'Время': '14:30',\n",
      "            'Предмет': 'Языки и методы программирования',\n",
      "            'Тип занятия': 'семинар'}}\n"
     ]
    }
   ],
   "source": [
    "from pprint import pprint\n",
    "timet_d = {'1 пара': {'Предмет': 'Математический анализ', 'Тип занятия' : 'семинар', 'Время': '9:00'},\n",
    "           '2 пара': {'Предмет': 'Математичеcкий анализ', 'Тип занятия': 'лекция', 'Время': '10:50'},\n",
    "           '3 пара': {'Предмет': 'Языки и методы программирования', 'Тип занятия': 'семинар', 'Время': '12:40'},\n",
    "           '4 пара': {'Предмет': 'Языки и методы программирования', 'Тип занятия': 'семинар', 'Время': '14:30'}}\n",
    "pprint(timet_d)"
   ]
  },
  {
   "cell_type": "markdown",
   "metadata": {},
   "source": [
    "Убедиться в том, что невозможно создать ссылку на объект типа int и придумать, как это ограничение можно обойти с помощью классов"
   ]
  },
  {
   "cell_type": "code",
   "execution_count": 3,
   "metadata": {},
   "outputs": [
    {
     "ename": "TypeError",
     "evalue": "cannot create weak reference to 'int' object",
     "output_type": "error",
     "traceback": [
      "\u001b[1;31m---------------------------------------------------------------------------\u001b[0m",
      "\u001b[1;31mTypeError\u001b[0m                                 Traceback (most recent call last)",
      "\u001b[1;32m<ipython-input-3-3c0b13154161>\u001b[0m in \u001b[0;36m<module>\u001b[1;34m\u001b[0m\n\u001b[0;32m      2\u001b[0m \u001b[0mex\u001b[0m \u001b[1;33m=\u001b[0m \u001b[0mWeakSet\u001b[0m\u001b[1;33m(\u001b[0m\u001b[1;33m)\u001b[0m\u001b[1;33m\u001b[0m\u001b[1;33m\u001b[0m\u001b[0m\n\u001b[0;32m      3\u001b[0m \u001b[0mex_2\u001b[0m \u001b[1;33m=\u001b[0m \u001b[1;36m2\u001b[0m\u001b[1;33m\u001b[0m\u001b[1;33m\u001b[0m\u001b[0m\n\u001b[1;32m----> 4\u001b[1;33m \u001b[0mex\u001b[0m\u001b[1;33m.\u001b[0m\u001b[0madd\u001b[0m\u001b[1;33m(\u001b[0m\u001b[0mex_2\u001b[0m\u001b[1;33m)\u001b[0m   \u001b[1;31m# действительно невозможно, выдаст ошибку\u001b[0m\u001b[1;33m\u001b[0m\u001b[1;33m\u001b[0m\u001b[0m\n\u001b[0m",
      "\u001b[1;32m~\\Anaconda3\\lib\\_weakrefset.py\u001b[0m in \u001b[0;36madd\u001b[1;34m(self, item)\u001b[0m\n\u001b[0;32m     82\u001b[0m         \u001b[1;32mif\u001b[0m \u001b[0mself\u001b[0m\u001b[1;33m.\u001b[0m\u001b[0m_pending_removals\u001b[0m\u001b[1;33m:\u001b[0m\u001b[1;33m\u001b[0m\u001b[1;33m\u001b[0m\u001b[0m\n\u001b[0;32m     83\u001b[0m             \u001b[0mself\u001b[0m\u001b[1;33m.\u001b[0m\u001b[0m_commit_removals\u001b[0m\u001b[1;33m(\u001b[0m\u001b[1;33m)\u001b[0m\u001b[1;33m\u001b[0m\u001b[1;33m\u001b[0m\u001b[0m\n\u001b[1;32m---> 84\u001b[1;33m         \u001b[0mself\u001b[0m\u001b[1;33m.\u001b[0m\u001b[0mdata\u001b[0m\u001b[1;33m.\u001b[0m\u001b[0madd\u001b[0m\u001b[1;33m(\u001b[0m\u001b[0mref\u001b[0m\u001b[1;33m(\u001b[0m\u001b[0mitem\u001b[0m\u001b[1;33m,\u001b[0m \u001b[0mself\u001b[0m\u001b[1;33m.\u001b[0m\u001b[0m_remove\u001b[0m\u001b[1;33m)\u001b[0m\u001b[1;33m)\u001b[0m\u001b[1;33m\u001b[0m\u001b[1;33m\u001b[0m\u001b[0m\n\u001b[0m\u001b[0;32m     85\u001b[0m \u001b[1;33m\u001b[0m\u001b[0m\n\u001b[0;32m     86\u001b[0m     \u001b[1;32mdef\u001b[0m \u001b[0mclear\u001b[0m\u001b[1;33m(\u001b[0m\u001b[0mself\u001b[0m\u001b[1;33m)\u001b[0m\u001b[1;33m:\u001b[0m\u001b[1;33m\u001b[0m\u001b[1;33m\u001b[0m\u001b[0m\n",
      "\u001b[1;31mTypeError\u001b[0m: cannot create weak reference to 'int' object"
     ]
    }
   ],
   "source": [
    "from weakref import WeakSet\n",
    "ex = WeakSet()\n",
    "ex_2 = 2\n",
    "ex.add(ex_2)   # действительно невозможно, выдаст ошибку"
   ]
  },
  {
   "cell_type": "code",
   "execution_count": null,
   "metadata": {},
   "outputs": [],
   "source": [
    "class int_int:\n",
    "    def __init__(self, n = 0):\n",
    "        self.n = n\n",
    "ex_3 = int_int(1)\n",
    "ex.add(ex_3)  # решение проблемы посредством классов существует"
   ]
  }
 ],
 "metadata": {
  "kernelspec": {
   "display_name": "Python 3",
   "language": "python",
   "name": "python3"
  },
  "language_info": {
   "codemirror_mode": {
    "name": "ipython",
    "version": 3
   },
   "file_extension": ".py",
   "mimetype": "text/x-python",
   "name": "python",
   "nbconvert_exporter": "python",
   "pygments_lexer": "ipython3",
   "version": "3.7.4"
  }
 },
 "nbformat": 4,
 "nbformat_minor": 4
}
