{
 "cells": [
  {
   "cell_type": "markdown",
   "metadata": {},
   "source": [
    "**Time, datetime, calendar**"
   ]
  },
  {
   "cell_type": "markdown",
   "metadata": {},
   "source": [
    "При помощи модуля time преобразовать текущее время в число секунд с начала эпохи, не используя метод time()."
   ]
  },
  {
   "cell_type": "code",
   "execution_count": 1,
   "metadata": {},
   "outputs": [
    {
     "name": "stdout",
     "output_type": "stream",
     "text": [
      "1601841182.0\n"
     ]
    }
   ],
   "source": [
    "import time\n",
    "print(time.mktime(time.localtime()))"
   ]
  },
  {
   "cell_type": "markdown",
   "metadata": {},
   "source": [
    "С помощью модуля datetime определить дату, которая наступит через 10 дней от текущей даты."
   ]
  },
  {
   "cell_type": "code",
   "execution_count": 2,
   "metadata": {},
   "outputs": [
    {
     "name": "stdout",
     "output_type": "stream",
     "text": [
      "2020-10-14\n"
     ]
    }
   ],
   "source": [
    "import datetime\n",
    "print(datetime.date.today() + datetime.timedelta(10))"
   ]
  },
  {
   "cell_type": "markdown",
   "metadata": {},
   "source": [
    "При помощи модуля calendar вывести календарь на 2021 год в виде HTML таблицы в файле под названием \"my_calendar\". А также выяснить, является ли 2021 високостным."
   ]
  },
  {
   "cell_type": "code",
   "execution_count": 3,
   "metadata": {},
   "outputs": [
    {
     "name": "stdout",
     "output_type": "stream",
     "text": [
      "Год невисикосный\n"
     ]
    }
   ],
   "source": [
    "import calendar\n",
    "cc = calendar.HTMLCalendar(firstweekday=0)\n",
    "ccc = cc.formatyear(2016, 5)\n",
    "with open('my_calendar.html', 'w') as html_file:\n",
    "    html_file.write(ccc)\n",
    "def year_leap(year: int) -> str:\n",
    "    return 'Год високосный' if calendar.isleap(year) else 'Год невисикосный'\n",
    "print(year_leap(2021))"
   ]
  }
 ],
 "metadata": {
  "kernelspec": {
   "display_name": "Python 3",
   "language": "python",
   "name": "python3"
  },
  "language_info": {
   "codemirror_mode": {
    "name": "ipython",
    "version": 3
   },
   "file_extension": ".py",
   "mimetype": "text/x-python",
   "name": "python",
   "nbconvert_exporter": "python",
   "pygments_lexer": "ipython3",
   "version": "3.7.4"
  }
 },
 "nbformat": 4,
 "nbformat_minor": 4
}
