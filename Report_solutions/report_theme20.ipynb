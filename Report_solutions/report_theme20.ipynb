{
 "cells": [
  {
   "cell_type": "markdown",
   "metadata": {},
   "source": [
    "**Решение тема 20**"
   ]
  },
  {
   "cell_type": "markdown",
   "metadata": {},
   "source": [
    "Задание: Отформатировать числа (321.3, 12345,8974) в (321.3zł, 12345zł,8974zł).zł - Польский злотый"
   ]
  },
  {
   "cell_type": "code",
   "execution_count": 1,
   "metadata": {},
   "outputs": [
    {
     "name": "stdout",
     "output_type": "stream",
     "text": [
      "( 321,30 zł, 12345,00 zł, 8974,00 zł)\n"
     ]
    }
   ],
   "source": [
    "import locale\n",
    "sample_loc = (321.3, 12345,8974)\n",
    "locale.setlocale(locale.LC_ALL, 'pl_PL')\n",
    "print('({:>10}, {:>10}, {:>10})'.format(\n",
    "    locale.currency(sample_loc[0]),\n",
    "    locale.currency(sample_loc[1]),\n",
    "    locale.currency(sample_loc[2])\n",
    "))"
   ]
  }
 ],
 "metadata": {
  "kernelspec": {
   "display_name": "Python 3",
   "language": "python",
   "name": "python3"
  },
  "language_info": {
   "codemirror_mode": {
    "name": "ipython",
    "version": 3
   },
   "file_extension": ".py",
   "mimetype": "text/x-python",
   "name": "python",
   "nbconvert_exporter": "python",
   "pygments_lexer": "ipython3",
   "version": "3.7.4"
  }
 },
 "nbformat": 4,
 "nbformat_minor": 4
}
