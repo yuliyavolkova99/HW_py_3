{
 "cells": [
  {
   "cell_type": "markdown",
   "metadata": {},
   "source": [
    "**Доклад тема 5**"
   ]
  },
  {
   "cell_type": "markdown",
   "metadata": {},
   "source": [
    "**Задание 1**"
   ]
  },
  {
   "cell_type": "markdown",
   "metadata": {},
   "source": [
    "С помощью методов itertools.compress и itertools.cycle создать список чётных чисел в интервале [0; 10]."
   ]
  },
  {
   "cell_type": "code",
   "execution_count": 1,
   "metadata": {},
   "outputs": [
    {
     "name": "stdout",
     "output_type": "stream",
     "text": [
      "[0, 2, 4, 6, 8, 10]\n"
     ]
    }
   ],
   "source": [
    "import itertools\n",
    "l=[]\n",
    "for _ in zip(range(11), itertools.cycle(\"10\")):\n",
    "    l.append(int(_[1])) \n",
    "res = list(itertools.compress(range(11), l))\n",
    "print(res)"
   ]
  },
  {
   "cell_type": "markdown",
   "metadata": {},
   "source": [
    "**Задание 2**"
   ]
  },
  {
   "cell_type": "markdown",
   "metadata": {},
   "source": [
    "Реализовать функцию from_digits, которая с помощью метода functools.reduce превращает список цифр в число. Аргумент функции from_digits — digits обязательно должен быть ключевым.  \n",
    "Тесты:  \n",
    "from_digits(digits = [1, 0, 2]) → 102  \n",
    "from_digits(digits = [3, 2, 1, 4, 5, 7]) → 321457  \n",
    "from_digits(digits = []) → \"Error: 'Список цифр должен быть не пуст!'\"  "
   ]
  },
  {
   "cell_type": "code",
   "execution_count": 2,
   "metadata": {},
   "outputs": [
    {
     "name": "stdout",
     "output_type": "stream",
     "text": [
      "102\n",
      "Error: 'Список цифр должен быть не пуст!'\n"
     ]
    }
   ],
   "source": [
    "import functools\n",
    "def from_digits(digits: list):\n",
    "    try:\n",
    "        return functools.reduce(lambda x, y: 10*x + y, digits)\n",
    "    except TypeError:\n",
    "        return \"Error: 'Список цифр должен быть не пуст!'\"\n",
    "\n",
    "print(from_digits([1, 0, 2]))\n",
    "print(from_digits([]))"
   ]
  },
  {
   "cell_type": "markdown",
   "metadata": {},
   "source": [
    "**Задание 3**"
   ]
  },
  {
   "cell_type": "markdown",
   "metadata": {},
   "source": [
    "С помощью метода из модуля operator создайте функцию, которая отсортирует словарь по возрастанию его значений  \n",
    "Тесты:  \n",
    "sort_dict({1: -10, 2: 10, 3: 0}) → {1: -10, 3: 0, 2: 10}  \n",
    "sort_dict({1: -1, 2: -2, 3: -6}) → {3: -6, 2: -2, 1: -1}  \n",
    "sort_dict({}) → {}  "
   ]
  },
  {
   "cell_type": "code",
   "execution_count": 3,
   "metadata": {},
   "outputs": [
    {
     "name": "stdout",
     "output_type": "stream",
     "text": [
      "{1: -10, 3: 0, 2: 10}\n"
     ]
    }
   ],
   "source": [
    "import operator\n",
    "def sort_dict(dictionary):\n",
    "        return dict(sorted(dictionary.items(), key = operator.itemgetter(1)))\n",
    "print(sort_dict({1: -10, 2: 10, 3: 0}))"
   ]
  }
 ],
 "metadata": {
  "kernelspec": {
   "display_name": "Python 3",
   "language": "python",
   "name": "python3"
  },
  "language_info": {
   "codemirror_mode": {
    "name": "ipython",
    "version": 3
   },
   "file_extension": ".py",
   "mimetype": "text/x-python",
   "name": "python",
   "nbconvert_exporter": "python",
   "pygments_lexer": "ipython3",
   "version": "3.7.4"
  }
 },
 "nbformat": 4,
 "nbformat_minor": 4
}
