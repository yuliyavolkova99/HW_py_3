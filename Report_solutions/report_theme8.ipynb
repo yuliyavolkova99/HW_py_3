{
 "cells": [
  {
   "cell_type": "markdown",
   "metadata": {},
   "source": [
    "## Решение по теме 8"
   ]
  },
  {
   "cell_type": "markdown",
   "metadata": {},
   "source": [
    "**Задание 1**"
   ]
  },
  {
   "cell_type": "code",
   "execution_count": 1,
   "metadata": {},
   "outputs": [
    {
     "name": "stdout",
     "output_type": "stream",
     "text": [
      "96.30762754048844 9.813644967110255\n"
     ]
    }
   ],
   "source": [
    "import statistics as st\n",
    "from scipy.stats.mstats import gmean\n",
    "import random\n",
    "pnt = [random.randint(1,100) for _ in range(1,20)]\n",
    "mean = st.mean(pnt)\n",
    "g_mean = gmean(pnt) #выдавало ошибку на st.geometric_mean\n",
    "h_mean = st.harmonic_mean(pnt)\n",
    "p_v = st.pvariance([mean, g_mean, h_mean])\n",
    "ps = st.pstdev([mean,g_mean,h_mean])\n",
    "print(p_v,ps)"
   ]
  },
  {
   "cell_type": "markdown",
   "metadata": {},
   "source": [
    "**Задание 2**"
   ]
  },
  {
   "cell_type": "code",
   "execution_count": 2,
   "metadata": {},
   "outputs": [
    {
     "data": {
      "text/plain": [
       "6.538813500136891"
      ]
     },
     "execution_count": 2,
     "metadata": {},
     "output_type": "execute_result"
    }
   ],
   "source": [
    "import math\n",
    "math.pi * (pow(math.log(math.e, 2),2))"
   ]
  }
 ],
 "metadata": {
  "kernelspec": {
   "display_name": "Python 3",
   "language": "python",
   "name": "python3"
  },
  "language_info": {
   "codemirror_mode": {
    "name": "ipython",
    "version": 3
   },
   "file_extension": ".py",
   "mimetype": "text/x-python",
   "name": "python",
   "nbconvert_exporter": "python",
   "pygments_lexer": "ipython3",
   "version": "3.7.4"
  }
 },
 "nbformat": 4,
 "nbformat_minor": 4
}
