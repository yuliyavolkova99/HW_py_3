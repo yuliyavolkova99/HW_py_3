{
 "cells": [
  {
   "cell_type": "markdown",
   "metadata": {},
   "source": [
    "## Решение по теме 7"
   ]
  },
  {
   "cell_type": "markdown",
   "metadata": {},
   "source": [
    "**Задание 1**"
   ]
  },
  {
   "cell_type": "markdown",
   "metadata": {},
   "source": [
    "1. числа decimal можно смешивать с целыми числами, в случае чисел вещественных будет ошибка  \n",
    "2. Атрибуты fractions:  \n",
    "    x.numerator возвращает числитель дроби  \n",
    "    x.denominator возвращает знаменатель дроби  \n",
    "    Fraction.from_float(flt) принимает flt – число типа float и возвращает обыкновенную дробь отношение числителя к знаменателю которой максимально приближается к значению flt.  \n",
    "    Fraction.from_decimal(dec) создает обыкновенную дробь, которая является точным представлением десятичной дроби указанной в dec, где dec – это экземпляр класса decimal.Decimal.  \n",
    "    Fraction.limit_denominator(max_denominator=10...)  \n",
    "    floor, ceil, round  \n",
    "3. step - шаг. Задавать не обязательно"
   ]
  },
  {
   "cell_type": "markdown",
   "metadata": {},
   "source": [
    "**Задание 2**"
   ]
  },
  {
   "cell_type": "code",
   "execution_count": 1,
   "metadata": {},
   "outputs": [
    {
     "name": "stdout",
     "output_type": "stream",
     "text": [
      "10 35\n"
     ]
    }
   ],
   "source": [
    "from decimal import Decimal\n",
    "x = Decimal('10.35')\n",
    "a = int(x)\n",
    "b = int(100 * (x - a))\n",
    "print(a, b)"
   ]
  },
  {
   "cell_type": "markdown",
   "metadata": {},
   "source": [
    "**Задание 3**"
   ]
  },
  {
   "cell_type": "code",
   "execution_count": 2,
   "metadata": {},
   "outputs": [
    {
     "data": {
      "text/plain": [
       "9"
      ]
     },
     "execution_count": 2,
     "metadata": {},
     "output_type": "execute_result"
    }
   ],
   "source": [
    "import random\n",
    "random.choice([6,7,8,9,10,11,12])"
   ]
  }
 ],
 "metadata": {
  "kernelspec": {
   "display_name": "Python 3",
   "language": "python",
   "name": "python3"
  },
  "language_info": {
   "codemirror_mode": {
    "name": "ipython",
    "version": 3
   },
   "file_extension": ".py",
   "mimetype": "text/x-python",
   "name": "python",
   "nbconvert_exporter": "python",
   "pygments_lexer": "ipython3",
   "version": "3.7.4"
  }
 },
 "nbformat": 4,
 "nbformat_minor": 4
}
