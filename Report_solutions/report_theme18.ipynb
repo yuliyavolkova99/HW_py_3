{
 "cells": [
  {
   "cell_type": "markdown",
   "metadata": {},
   "source": [
    "**Доклад тема 18**"
   ]
  },
  {
   "cell_type": "markdown",
   "metadata": {},
   "source": [
    "1) Не используя библиотеку UUID создать уникальную 12-ти символьную строку, используя латиницу, цифры, а также сегодняшнюю дату и время."
   ]
  },
  {
   "cell_type": "code",
   "execution_count": 1,
   "metadata": {},
   "outputs": [
    {
     "name": "stdout",
     "output_type": "stream",
     "text": [
      "7bcb599fc9c2\n"
     ]
    }
   ],
   "source": [
    "import secrets\n",
    "print(secrets.token_hex(6))"
   ]
  },
  {
   "cell_type": "markdown",
   "metadata": {},
   "source": [
    "2) Создайте функцию в которой пользователь вводит ссылку сайта и получает данные cookie по странице."
   ]
  },
  {
   "cell_type": "code",
   "execution_count": 2,
   "metadata": {},
   "outputs": [
    {
     "name": "stdin",
     "output_type": "stream",
     "text": [
      "Введите ссылку: http://www.google.com/\n"
     ]
    },
    {
     "name": "stdout",
     "output_type": "stream",
     "text": [
      "1P_JAR 2020-12-10-19\n",
      "NID 204=qMzGiTP7bp9RVRzwc-XCZmQET5Xqxvjf8jQvv5cVrxCuedfgXzXN1vNHatScPwI963u104TqAGs8WCwDXwXyJOz-Vu_C-VEMVZWO1HEUhVCs0Mc9ZB7WZYjn3QAAo-ULa6ffhMINb2N-l3NFlACrR9ohb4oZAhShLloJLJ_c8TY\n",
      "1P_JAR 2020-12-10-19\n",
      "NID 204=qMzGiTP7bp9RVRzwc-XCZmQET5Xqxvjf8jQvv5cVrxCuedfgXzXN1vNHatScPwI963u104TqAGs8WCwDXwXyJOz-Vu_C-VEMVZWO1HEUhVCs0Mc9ZB7WZYjn3QAAo-ULa6ffhMINb2N-l3NFlACrR9ohb4oZAhShLloJLJ_c8TY\n"
     ]
    }
   ],
   "source": [
    "from urllib.request import Request, build_opener, HTTPCookieProcessor, HTTPHandler, HTTPSHandler\n",
    "import http.cookiejar\n",
    "\n",
    "uri = input('Введите ссылку:' )\n",
    "cookies = http.cookiejar.LWPCookieJar()\n",
    "handlers = [\n",
    "    HTTPHandler(),\n",
    "    HTTPSHandler(),\n",
    "    HTTPCookieProcessor(cookies)\n",
    "    ]\n",
    "opener = build_opener(*handlers)\n",
    "\n",
    "def fetch(uri):\n",
    "    req = Request(uri)\n",
    "    return opener.open(req)\n",
    "\n",
    "def dump():\n",
    "    for cookie in cookies:\n",
    "        print(cookie.name, cookie.value)\n",
    "\n",
    "res = fetch(uri)\n",
    "dump()\n",
    "\n",
    "res = fetch(uri)\n",
    "dump()"
   ]
  },
  {
   "cell_type": "markdown",
   "metadata": {},
   "source": [
    "3) Решите проблему с webbrowser, так чтоб можно было несколько ссылок открывать в одном браузере, пример неправильного выполнения ниже."
   ]
  },
  {
   "cell_type": "code",
   "execution_count": 3,
   "metadata": {},
   "outputs": [
    {
     "name": "stdin",
     "output_type": "stream",
     "text": [
      "Введите ссылку или запрос:  яблоки\n"
     ]
    }
   ],
   "source": [
    "import webbrowser\n",
    "call = input('Введите ссылку или запрос: ')\n",
    "if '.' in call:\n",
    "    webbrowser.open_new_tab('https://' + call)\n",
    "else:\n",
    "    webbrowser.open_new_tab('https://yandex.ru/search/?text=' + call)"
   ]
  }
 ],
 "metadata": {
  "kernelspec": {
   "display_name": "Python 3",
   "language": "python",
   "name": "python3"
  },
  "language_info": {
   "codemirror_mode": {
    "name": "ipython",
    "version": 3
   },
   "file_extension": ".py",
   "mimetype": "text/x-python",
   "name": "python",
   "nbconvert_exporter": "python",
   "pygments_lexer": "ipython3",
   "version": "3.7.4"
  }
 },
 "nbformat": 4,
 "nbformat_minor": 4
}
