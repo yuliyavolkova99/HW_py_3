{
 "cells": [
  {
   "cell_type": "markdown",
   "metadata": {},
   "source": [
    "**Доклад тема 22**"
   ]
  },
  {
   "cell_type": "markdown",
   "metadata": {},
   "source": [
    "**Задание 1**"
   ]
  },
  {
   "cell_type": "markdown",
   "metadata": {},
   "source": [
    "Создайте любую функцию от нескольких аргументов и:  \n",
    "        1) Сделайте так, чтоб отладчик запускался из самой программы  \n",
    "        2) Выведите через отладчик: аргументы функции, ближайшие 10 строк относительно вашей позиции и весь код функции  \n",
    "        3) Создайте 2 точки останова  "
   ]
  },
  {
   "cell_type": "code",
   "execution_count": 1,
   "metadata": {},
   "outputs": [],
   "source": [
    "import pdb\n",
    "def func(a,b):\n",
    "    pdb.set_trace()\n",
    "    print(a**b)"
   ]
  },
  {
   "cell_type": "code",
   "execution_count": 2,
   "metadata": {},
   "outputs": [
    {
     "name": "stdout",
     "output_type": "stream",
     "text": [
      "> <ipython-input-1-c9b5a782af94>(4)func()\n",
      "-> print(a**b)\n"
     ]
    },
    {
     "name": "stdin",
     "output_type": "stream",
     "text": [
      "(Pdb)  a\n"
     ]
    },
    {
     "name": "stdout",
     "output_type": "stream",
     "text": [
      "a = 1\n",
      "b = 4\n"
     ]
    },
    {
     "name": "stdin",
     "output_type": "stream",
     "text": [
      "(Pdb)  l\n"
     ]
    },
    {
     "name": "stdout",
     "output_type": "stream",
     "text": [
      "  1  \timport pdb\n",
      "  2  \tdef func(a,b):\n",
      "  3  \t    pdb.set_trace()\n",
      "  4  ->\t    print(a**b)\n",
      "[EOF]\n"
     ]
    },
    {
     "name": "stdin",
     "output_type": "stream",
     "text": [
      "(Pdb)  ll\n"
     ]
    },
    {
     "name": "stdout",
     "output_type": "stream",
     "text": [
      "  2  \tdef func(a,b):\n",
      "  3  \t    pdb.set_trace()\n",
      "  4  ->\t    print(a**b)\n"
     ]
    },
    {
     "name": "stdin",
     "output_type": "stream",
     "text": [
      "(Pdb)  b 3\n"
     ]
    },
    {
     "name": "stdout",
     "output_type": "stream",
     "text": [
      "Breakpoint 1 at <ipython-input-1-c9b5a782af94>:3\n"
     ]
    },
    {
     "name": "stdin",
     "output_type": "stream",
     "text": [
      "(Pdb)  c\n"
     ]
    },
    {
     "name": "stdout",
     "output_type": "stream",
     "text": [
      "1\n"
     ]
    }
   ],
   "source": [
    "func(1, 4)"
   ]
  },
  {
   "cell_type": "markdown",
   "metadata": {},
   "source": [
    " С помощью модуля trace создайте отчет о работе любой функции, сохраните этот отчет в формате txt, при этом подсчет числа линий и выполнение линий трассировки должны быть включены."
   ]
  },
  {
   "cell_type": "code",
   "execution_count": 3,
   "metadata": {},
   "outputs": [
    {
     "name": "stdout",
     "output_type": "stream",
     "text": [
      " --- modulename: iostream, funcname: write\n",
      "iostream.py(385):         if self.echo is not None:\n",
      "iostream.py(393):         if self.pub_thread is None:\n",
      "iostream.py(397):             if not isinstance(string, unicode_type):\n",
      "iostream.py(400):             is_child = (not self._is_master_process())\n",
      " --- modulename: iostream, funcname: _is_master_process\n",
      "iostream.py(310):         return os.getpid() == self._master_pid\n",
      "iostream.py(402):             self.pub_thread.schedule(lambda : self._buffer.write(string))\n",
      " --- modulename: iostream, funcname: schedule\n",
      "iostream.py(202):         if self.thread.is_alive():\n",
      " --- modulename: threading, funcname: is_alive\n",
      "threading.py(1100):         assert self._initialized, \"Thread.__init__() not called\"\n",
      "threading.py(1101):         if self._is_stopped or not self._started.is_set():\n",
      " --- modulename: threading, funcname: is_set\n",
      "threading.py(509):         return self._flag\n",
      "threading.py(1103):         self._wait_for_tstate_lock(False)\n",
      " --- modulename: threading, funcname: _wait_for_tstate_lock\n",
      "threading.py(1057):         lock = self._tstate_lock\n",
      "threading.py(1058):         if lock is None:  # already determined that the C code is done\n",
      "threading.py(1060):         elif lock.acquire(block, timeout):\n",
      "threading.py(1104):         return not self._is_stopped\n",
      "iostream.py(203):             self._events.append(f)\n",
      "16iostream.py(205):             self._event_pipe.send(b'')\n",
      " --- modulename: iostream, funcname: _event_pipe\n",
      "iostream.py(96):         try:\n",
      "iostream.py(97):             event_pipe = self._local.event_pipe\n",
      "iostream.py(105):         return event_pipe\n",
      " --- modulename: socket, funcname: send\n",
      "socket.py(390):         if routing_id is not None:\n",
      "socket.py(395):         if group is not None:\n",
      "socket.py(400):         return super(Socket, self).send(data, flags=flags, copy=copy, track=track)\n",
      "iostream.py(403):             if is_child:\n",
      "iostream.py(410):                 self._schedule_flush()\n",
      " --- modulename: iostream, funcname: _schedule_flush\n",
      "iostream.py(327):         if self._flush_pending:\n",
      "iostream.py(328):             return\n",
      " --- modulename: iostream, funcname: write\n",
      "iostream.py(385):         if self.echo is not None:\n",
      "iostream.py(393):         if self.pub_thread is None:\n",
      "iostream.py(397):             if not isinstance(string, unicode_type):\n",
      "iostream.py(400):             is_child = (not self._is_master_process())\n",
      " --- modulename: iostream, funcname: _is_master_process\n",
      "iostream.py(310):         return os.getpid() == self._master_pid\n",
      "iostream.py(402):             self.pub_thread.schedule(lambda : self._buffer.write(string))\n",
      " --- modulename: iostream, funcname: schedule\n",
      "iostream.py(202):         if self.thread.is_alive():\n",
      " --- modulename: threading, funcname: is_alive\n",
      "threading.py(1100):         assert self._initialized, \"Thread.__init__() not called\"\n",
      "threading.py(1101):         if self._is_stopped or not self._started.is_set():\n",
      " --- modulename: threading, funcname: is_set\n",
      "threading.py(509):         return self._flag\n",
      "threading.py(1103):         self._wait_for_tstate_lock(False)\n",
      " --- modulename: threading, funcname: _wait_for_tstate_lock\n",
      "threading.py(1057):         lock = self._tstate_lock\n",
      "threading.py(1058):         if lock is None:  # already determined that the C code is done\n",
      "threading.py(1060):         elif lock.acquire(block, timeout):\n",
      "threading.py(1104):         return not self._is_stopped\n",
      "iostream.py(203):             self._events.append(f)\n",
      "\n",
      "iostream.py(205):             self._event_pipe.send(b'')\n",
      " --- modulename: iostream, funcname: _event_pipe\n",
      "iostream.py(96):         try:\n",
      "iostream.py(97):             event_pipe = self._local.event_pipe\n",
      "iostream.py(105):         return event_pipe\n",
      " --- modulename: socket, funcname: send\n",
      "socket.py(390):         if routing_id is not None:\n",
      "socket.py(395):         if group is not None:\n",
      "socket.py(400):         return super(Socket, self).send(data, flags=flags, copy=copy, track=track)\n",
      "iostream.py(403):             if is_child:\n",
      "iostream.py(410):                 self._schedule_flush()\n",
      " --- modulename: iostream, funcname: _schedule_flush\n",
      "iostream.py(327):         if self._flush_pending:\n",
      "iostream.py(328):             return\n",
      "lines   cov%   module   (path)\n",
      "  254     6%   ipykernel.iostream   (C:\\Users\\Y.S.D.V\\Anaconda3\\lib\\site-packages\\ipykernel\\iostream.py)\n",
      "  611     1%   threading   (C:\\Users\\Y.S.D.V\\Anaconda3\\lib\\threading.py)\n",
      "  237     1%   zmq.sugar.socket   (C:\\Users\\Y.S.D.V\\Anaconda3\\lib\\site-packages\\zmq\\sugar\\socket.py)\n"
     ]
    }
   ],
   "source": [
    "import trace\n",
    "\n",
    "def my_calc(a,b):  \n",
    "    print(a**b)\n",
    "\n",
    "tracer = trace.Trace(count=True,\n",
    "                     trace=True,\n",
    "                     outfile='trace_report.txt')\n",
    "tracer.runfunc(my_calc, 2, 4)\n",
    "\n",
    "report_tracer = trace.Trace(count=True,\n",
    "                            trace=True,\n",
    "                            infile='trace_report.txt')\n",
    "results = tracer.results()\n",
    "results.write_results(summary=True, coverdir='ex2')"
   ]
  }
 ],
 "metadata": {
  "kernelspec": {
   "display_name": "Python 3",
   "language": "python",
   "name": "python3"
  },
  "language_info": {
   "codemirror_mode": {
    "name": "ipython",
    "version": 3
   },
   "file_extension": ".py",
   "mimetype": "text/x-python",
   "name": "python",
   "nbconvert_exporter": "python",
   "pygments_lexer": "ipython3",
   "version": "3.7.4"
  }
 },
 "nbformat": 4,
 "nbformat_minor": 4
}
