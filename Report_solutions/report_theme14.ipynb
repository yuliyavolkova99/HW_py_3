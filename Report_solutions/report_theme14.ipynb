{
 "cells": [
  {
   "cell_type": "markdown",
   "metadata": {},
   "source": [
    "**Доклад тема 14**"
   ]
  },
  {
   "cell_type": "markdown",
   "metadata": {},
   "source": [
    "Используя класс Popen запустите процесс notepad.exe передайте процессу timeout=3, если процесс завершится до истечения времени, то выведите строчку \"Успех!\", иначе отловите ошибку TimeoutExpired и выведете \"Провал!\""
   ]
  },
  {
   "cell_type": "code",
   "execution_count": 1,
   "metadata": {},
   "outputs": [],
   "source": [
    "import subprocess"
   ]
  },
  {
   "cell_type": "code",
   "execution_count": 2,
   "metadata": {},
   "outputs": [
    {
     "name": "stdout",
     "output_type": "stream",
     "text": [
      "Успех!\n"
     ]
    }
   ],
   "source": [
    "name = subprocess.Popen(r'C:\\Windows\\notepad.exe')\n",
    "try:\n",
    "    outs, errs = name.communicate(input = None, timeout =3)\n",
    "    print('Успех!')\n",
    "except subprocess.TimeoutExpired:\n",
    "    name.kill()\n",
    "    outs, errs = name.communicate()\n",
    "    print('Провал!')"
   ]
  }
 ],
 "metadata": {
  "kernelspec": {
   "display_name": "Python 3",
   "language": "python",
   "name": "python3"
  },
  "language_info": {
   "codemirror_mode": {
    "name": "ipython",
    "version": 3
   },
   "file_extension": ".py",
   "mimetype": "text/x-python",
   "name": "python",
   "nbconvert_exporter": "python",
   "pygments_lexer": "ipython3",
   "version": "3.7.4"
  }
 },
 "nbformat": 4,
 "nbformat_minor": 4
}
