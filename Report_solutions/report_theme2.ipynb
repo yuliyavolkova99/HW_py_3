{
 "cells": [
  {
   "cell_type": "markdown",
   "metadata": {},
   "source": [
    "**Enum, collections, array**"
   ]
  },
  {
   "cell_type": "markdown",
   "metadata": {},
   "source": [
    "Дана произвольная строка. Вывести наименее часто встречающиеся элементы. (без использования reverse)."
   ]
  },
  {
   "cell_type": "code",
   "execution_count": 1,
   "metadata": {},
   "outputs": [
    {
     "name": "stdout",
     "output_type": "stream",
     "text": [
      "e3aqpxa4  - исходная строка\n",
      "Counter({'a': 2, 'e': 1, '3': 1, 'q': 1, 'p': 1, 'x': 1, '4': 1})\n",
      "['e', '3', 'q', 'p', 'x', '4']\n"
     ]
    }
   ],
   "source": [
    "import random\n",
    "import collections \n",
    "import string\n",
    "def str_gen(size = random.randint(1,10), chars = string.ascii_lowercase + string.digits):\n",
    "    return ''.join(random.choice(chars) for _ in range(size))\n",
    "strr = str_gen()\n",
    "print(strr, \" - исходная строка\")\n",
    "mc = collections.Counter(strr)\n",
    "print(mc)\n",
    "res =[u[0]  for u  in mc.items() if u[1]==1]\n",
    "print(res)"
   ]
  }
 ],
 "metadata": {
  "kernelspec": {
   "display_name": "Python 3",
   "language": "python",
   "name": "python3"
  },
  "language_info": {
   "codemirror_mode": {
    "name": "ipython",
    "version": 3
   },
   "file_extension": ".py",
   "mimetype": "text/x-python",
   "name": "python",
   "nbconvert_exporter": "python",
   "pygments_lexer": "ipython3",
   "version": "3.7.4"
  }
 },
 "nbformat": 4,
 "nbformat_minor": 4
}
