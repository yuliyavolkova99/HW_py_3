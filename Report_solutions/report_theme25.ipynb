{
 "cells": [
  {
   "cell_type": "markdown",
   "metadata": {},
   "source": [
    "**Доклад тема 25**"
   ]
  },
  {
   "cell_type": "markdown",
   "metadata": {},
   "source": [
    "**Задание 1**"
   ]
  },
  {
   "cell_type": "markdown",
   "metadata": {},
   "source": [
    "Вывести из кода ниже с помощью функции getcomments() комментарий 'output this comment'"
   ]
  },
  {
   "cell_type": "code",
   "execution_count": 19,
   "metadata": {},
   "outputs": [
    {
     "name": "stdout",
     "output_type": "stream",
     "text": [
      "None\n"
     ]
    }
   ],
   "source": [
    "import inspect\n",
    "\n",
    "# This comment appears first\n",
    "# and spans 2 lines.\n",
    "\n",
    "# This comment does not show up in the output of getcomments().\n",
    "\n",
    "\"\"\"Sample file to serve as the basis for inspect examples.\n",
    "\"\"\"\n",
    "\n",
    "\n",
    "def module_level_function(arg1, arg2='default', *args, **kwargs):\n",
    "    \"\"\"This function is declared in the module.\"\"\"\n",
    "    local_variable = arg1 * 2\n",
    "    return local_variable\n",
    "\n",
    "\n",
    "class A(object):\n",
    "    \"\"\"The A class.\"\"\"\n",
    "\n",
    "    def __init__(self, name):\n",
    "        self.name = name\n",
    "\n",
    "    def get_name(self):\n",
    "        \"Returns the name of the instance.\"\n",
    "        return self.name\n",
    "\n",
    "\n",
    "instance_of_a = A('sample_instance')\n",
    "\n",
    "\n",
    "class B(A):\n",
    "    \"\"\"This is the B class.\n",
    "    It is derived from A.\n",
    "    \"\"\"\n",
    "\n",
    "    # This method is not part of A.\n",
    "    def do_something(self):\n",
    "        \"\"\"Does some work\"\"\"\n",
    "    #output this comment\n",
    "    def get_name(self):\n",
    "        \"Overrides version from A\"\n",
    "        return 'B(' + self.name + ')'\n",
    "\n",
    "print(inspect.getcomments(B)) #почему-то выдает None(???)"
   ]
  },
  {
   "cell_type": "markdown",
   "metadata": {},
   "source": [
    "Написать функцию isabstract, которая проверяет, является ли класс абстрактным или нет"
   ]
  },
  {
   "cell_type": "code",
   "execution_count": 9,
   "metadata": {},
   "outputs": [
    {
     "name": "stdout",
     "output_type": "stream",
     "text": [
      "Проверка на абстрактность класса: True\n",
      "Проверка на абстрактность класса: False\n"
     ]
    }
   ],
   "source": [
    "class LocalBaseClass:\n",
    "    pass\n",
    "\n",
    "import abc\n",
    "class PluginBase(metaclass=abc.ABCMeta):                                         \n",
    "    @abc.abstractmethod                   \n",
    "    def load(self, input): \n",
    "        pass\n",
    "    @abc.abstractmethod\n",
    "    def save(self, output, data):\n",
    "        pass\n",
    "        \n",
    "def isabstract(name):\n",
    "    return '__abstractmethods__' in dir(name)\n",
    "\n",
    "print('Проверка на абстрактность класса:', isabstract(PluginBase))\n",
    "print('Проверка на абстрактность класса:', isabstract(LocalBaseClass))"
   ]
  }
 ],
 "metadata": {
  "kernelspec": {
   "display_name": "Python 3",
   "language": "python",
   "name": "python3"
  },
  "language_info": {
   "codemirror_mode": {
    "name": "ipython",
    "version": 3
   },
   "file_extension": ".py",
   "mimetype": "text/x-python",
   "name": "python",
   "nbconvert_exporter": "python",
   "pygments_lexer": "ipython3",
   "version": "3.7.4"
  }
 },
 "nbformat": 4,
 "nbformat_minor": 4
}
