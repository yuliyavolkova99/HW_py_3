{
 "cells": [
  {
   "cell_type": "markdown",
   "metadata": {},
   "source": [
    "**Доклад тема 10**"
   ]
  },
  {
   "cell_type": "markdown",
   "metadata": {},
   "source": [
    "**Задание 1**"
   ]
  },
  {
   "cell_type": "markdown",
   "metadata": {},
   "source": [
    "Создайте свой класс и с помощью pickle запишите его в файл под название \"MyClassInFile\""
   ]
  },
  {
   "cell_type": "code",
   "execution_count": 1,
   "metadata": {},
   "outputs": [],
   "source": [
    "import pickle\n",
    "class class_one:\n",
    "    class_data = {'something'}\n",
    "    def funk(class_data):\n",
    "        return class_data\n",
    "class_class = class_one()\n",
    "with open('MyClassInFile.pickle', 'wb') as f:\n",
    "    pickle.dump(class_class, f)"
   ]
  },
  {
   "cell_type": "markdown",
   "metadata": {},
   "source": [
    "**Задание 2**"
   ]
  },
  {
   "cell_type": "markdown",
   "metadata": {},
   "source": [
    "С помощью shelve создайте файл \"MyFavoriteMovies\", и запишите в него названия своих любимых фильмов. В качестве ключей используйте имена режисеров"
   ]
  },
  {
   "cell_type": "code",
   "execution_count": 2,
   "metadata": {},
   "outputs": [
    {
     "name": "stdout",
     "output_type": "stream",
     "text": [
      "Wenders  :  Der Himmel uber Berlin\n",
      "Bergman  :  Persona\n",
      "Aleksandrov  :  Volga-Volga\n"
     ]
    }
   ],
   "source": [
    "import shelve\n",
    "with shelve.open(\"MyFavoriteMovies\") as Movies:\n",
    "    Movies[\"Wenders\"] = 'Der Himmel uber Berlin'\n",
    "    Movies[\"Bergman\"] = \"Persona\"\n",
    "    Movies[\"Aleksandrov\"] = \"Volga-Volga\"\n",
    "with shelve.open(\"MyFavoriteMovies\") as Movies:\n",
    "    for key in Movies:\n",
    "        print(key,\" : \", Movies[key])"
   ]
  },
  {
   "cell_type": "markdown",
   "metadata": {},
   "source": [
    "**Задание 3**"
   ]
  },
  {
   "cell_type": "markdown",
   "metadata": {},
   "source": [
    "Создайте таблицу employees и заполните ее данными, как на картинке. Повысьте зарплату на 1000 долларов всем работикам младше 30 лет и удалите из таблицы работников старше 40"
   ]
  },
  {
   "cell_type": "code",
   "execution_count": 3,
   "metadata": {},
   "outputs": [
    {
     "data": {
      "text/plain": [
       "<sqlite3.Cursor at 0x252cab329d0>"
      ]
     },
     "execution_count": 3,
     "metadata": {},
     "output_type": "execute_result"
    }
   ],
   "source": [
    "import sqlite3\n",
    "conn = sqlite3.connect(\"mydatabase1.db\")\n",
    "cursor = conn.cursor()\n",
    "cursor.execute(\"CREATE TABLE employy (name text, salary$ text, age text)\")"
   ]
  },
  {
   "cell_type": "code",
   "execution_count": 4,
   "metadata": {},
   "outputs": [],
   "source": [
    "employ = [('John Doe', '5000', '35'),\n",
    "          ('Marie Paige', '6000', '25'),\n",
    "          ('Megan Flores', '3000', '29'),\n",
    "          ('Harmony Simmons', '4000', '42')]"
   ]
  },
  {
   "cell_type": "code",
   "execution_count": 5,
   "metadata": {},
   "outputs": [
    {
     "data": {
      "text/plain": [
       "[(2, 'Marie Paige', '6000', '25'),\n",
       " (3, 'Megan Flores', '3000', '29'),\n",
       " (1, 'John Doe', '5000', '35')]"
      ]
     },
     "execution_count": 5,
     "metadata": {},
     "output_type": "execute_result"
    }
   ],
   "source": [
    "cursor.executemany(\"INSERT INTO employy VALUES (?,?,?)\", employ)\n",
    "conn.commit()\n",
    "sel = \"SELECT rowid, * FROM emplo ORDER BY age\"\n",
    "cursor.execute(sel)\n",
    "cursor.fetchall()"
   ]
  },
  {
   "cell_type": "code",
   "execution_count": 6,
   "metadata": {},
   "outputs": [
    {
     "data": {
      "text/plain": [
       "[(2, 'Marie Paige', '6000', '25'),\n",
       " (3, 'Megan Flores', '3000', '29'),\n",
       " (1, 'John Doe', '5000', '35')]"
      ]
     },
     "execution_count": 6,
     "metadata": {},
     "output_type": "execute_result"
    }
   ],
   "source": [
    "sel = \"DELETE FROM employy WHERE age >= '40'\"\n",
    "cursor.execute(sel)\n",
    "conn.commit()\n",
    "sel = \"SELECT rowid, * FROM employy ORDER BY age\"\n",
    "cursor.execute(sel)\n",
    "cursor.fetchall()"
   ]
  },
  {
   "cell_type": "code",
   "execution_count": 7,
   "metadata": {},
   "outputs": [],
   "source": [
    "sel = \"\"\"\n",
    "UPDATE employy \n",
    "SET salary$ = '7000' \n",
    "WHERE age = '25'\n",
    "\"\"\"\n",
    "cursor.execute(sel)\n",
    "conn.commit()"
   ]
  },
  {
   "cell_type": "code",
   "execution_count": 8,
   "metadata": {},
   "outputs": [],
   "source": [
    "sel1_1 = \"\"\"\n",
    "UPDATE employy\n",
    "SET salary$ = '4000' \n",
    "WHERE age = '29'\n",
    "\"\"\"\n",
    "cursor.execute(sel1_1)\n",
    "conn.commit()"
   ]
  },
  {
   "cell_type": "code",
   "execution_count": 9,
   "metadata": {},
   "outputs": [
    {
     "data": {
      "text/plain": [
       "[(2, 'Marie Paige', '7000', '25'),\n",
       " (3, 'Megan Flores', '4000', '29'),\n",
       " (1, 'John Doe', '5000', '35')]"
      ]
     },
     "execution_count": 9,
     "metadata": {},
     "output_type": "execute_result"
    }
   ],
   "source": [
    "sel = \"SELECT rowid, * FROM employy ORDER BY age\"\n",
    "cursor.execute(sel)\n",
    "cursor.fetchall()"
   ]
  }
 ],
 "metadata": {
  "kernelspec": {
   "display_name": "Python 3",
   "language": "python",
   "name": "python3"
  },
  "language_info": {
   "codemirror_mode": {
    "name": "ipython",
    "version": 3
   },
   "file_extension": ".py",
   "mimetype": "text/x-python",
   "name": "python",
   "nbconvert_exporter": "python",
   "pygments_lexer": "ipython3",
   "version": "3.7.4"
  }
 },
 "nbformat": 4,
 "nbformat_minor": 4
}
