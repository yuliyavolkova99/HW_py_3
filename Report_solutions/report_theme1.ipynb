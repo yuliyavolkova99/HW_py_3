{
 "cells": [
  {
   "cell_type": "markdown",
   "metadata": {},
   "source": [
    "**Доклад тема 1**"
   ]
  },
  {
   "cell_type": "markdown",
   "metadata": {},
   "source": [
    "**Задание 1**"
   ]
  },
  {
   "cell_type": "markdown",
   "metadata": {},
   "source": [
    "Выделите общую часть из двух строк с помощью модуля difflib:  \n",
    "        s1 = u'А роза упала на лапу Азора'  \n",
    "        s2 = u'Дай, Джим, на счастье лапу мне'  "
   ]
  },
  {
   "cell_type": "code",
   "execution_count": 1,
   "metadata": {},
   "outputs": [
    {
     "name": "stdout",
     "output_type": "stream",
     "text": [
      " лапу \n"
     ]
    }
   ],
   "source": [
    "from difflib import SequenceMatcher\n",
    "s1 = u'А роза упала на лапу Азора'\n",
    "s2 = u'Дай, Джим, на счастье лапу мне'\n",
    "s_m = SequenceMatcher(None, s1, s2)\n",
    "f_l_m = s_m.find_longest_match(0, len(s1), 0, len(s2))\n",
    "print(s1[f_l_m.a : f_l_m.b])"
   ]
  },
  {
   "cell_type": "markdown",
   "metadata": {},
   "source": [
    "**Задание 2**"
   ]
  },
  {
   "cell_type": "markdown",
   "metadata": {},
   "source": [
    "Дана строка, содержащая натуральные числа и слова. Необходимо сформировать список из чисел, содержащихся в этой строке.\n",
    "    Например, задана строка \"abc83 cde7 1 b 24\".\n",
    "    На выходе мы должны получить список [83, 7, 1, 24]"
   ]
  },
  {
   "cell_type": "code",
   "execution_count": 2,
   "metadata": {},
   "outputs": [
    {
     "name": "stdin",
     "output_type": "stream",
     "text": [
      " abc83 cde7 1 b 24\n"
     ]
    },
    {
     "name": "stdout",
     "output_type": "stream",
     "text": [
      "[83, 7, 1, 24]\n"
     ]
    }
   ],
   "source": [
    "import re\n",
    "arg = str(input())\n",
    "res = re.findall(r'\\d+', arg)\n",
    "res = [int(x) for x in res]\n",
    "print(res)"
   ]
  },
  {
   "cell_type": "markdown",
   "metadata": {},
   "source": [
    "**Задание 3**"
   ]
  },
  {
   "cell_type": "markdown",
   "metadata": {},
   "source": [
    "Нужно ввести предложение и сделать динамическую границу вокруг этого предложения.\n",
    "    Граница должна иметь ширину, которая вводится.\n",
    "    Когда длина предложения превышает заданную ширину, необходимо напечатать новую строку и изменить высоту границы.\n",
    "    Предложение также должно быть центрировано в динамической границе."
   ]
  },
  {
   "cell_type": "code",
   "execution_count": 3,
   "metadata": {},
   "outputs": [
    {
     "name": "stdin",
     "output_type": "stream",
     "text": [
      " You are only young once, but you can stay immature indefinitely.\n",
      " 26\n"
     ]
    },
    {
     "name": "stdout",
     "output_type": "stream",
     "text": [
      "+----------------------------+\n",
      "| You are only young once, b |\n",
      "| ut you can stay immature i |\n",
      "|        ndefinitely.        |\n",
      "+----------------------------+\n"
     ]
    }
   ],
   "source": [
    "import textwrap\n",
    "word = input()\n",
    "width = int(input())\n",
    "t = '+-' + '-' * width + '-+'\n",
    "l = [word[x :width + x] for x in range(0, len(word), width)]\n",
    "print(t)\n",
    "for line in l:\n",
    "    print(f'| {line.center(width)} |')\n",
    "print(t)"
   ]
  }
 ],
 "metadata": {
  "kernelspec": {
   "display_name": "Python 3",
   "language": "python",
   "name": "python3"
  },
  "language_info": {
   "codemirror_mode": {
    "name": "ipython",
    "version": 3
   },
   "file_extension": ".py",
   "mimetype": "text/x-python",
   "name": "python",
   "nbconvert_exporter": "python",
   "pygments_lexer": "ipython3",
   "version": "3.7.4"
  }
 },
 "nbformat": 4,
 "nbformat_minor": 4
}
